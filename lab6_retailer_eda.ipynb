{
  "cells": [
    {
      "cell_type": "markdown",
      "metadata": {
        "id": "view-in-github",
        "colab_type": "text"
      },
      "source": [
        "<a href=\"https://colab.research.google.com/github/AustinPariseau/IS4487-Spring-Real/blob/main/lab6_retailer_eda.ipynb\" target=\"_parent\"><img src=\"https://colab.research.google.com/assets/colab-badge.svg\" alt=\"Open In Colab\"/></a>"
      ]
    },
    {
      "cell_type": "markdown",
      "metadata": {
        "id": "Z3dkKlSoyR1X"
      },
      "source": [
        "# IS 4487 Lab 6\n",
        "\n",
        "## Outline\n",
        "\n",
        "Repeat exercises from Lab 5, but with the *SuperStore Retail Orders* dataset\n",
        "\n",
        "\n",
        "<a href=\"https://colab.research.google.com/github/Stan-Pugsley/is_4487_base/blob/main/Labs/Scripts/lab6_retailer_eda.ipynb\" target=\"_parent\"><img src=\"https://colab.research.google.com/assets/colab-badge.svg\" alt=\"Open In Colab\"/></a>"
      ]
    },
    {
      "cell_type": "markdown",
      "metadata": {
        "id": "qzNbyOCNyR1a"
      },
      "source": [
        "## Load Libraries\n",
        "\n",
        "➡️ Assignment Tasks\n",
        "- Load any necessary libraries"
      ]
    },
    {
      "cell_type": "code",
      "execution_count": 2,
      "metadata": {
        "vscode": {
          "languageId": "plaintext"
        },
        "id": "K6xNjrPPyR1a"
      },
      "outputs": [],
      "source": [
        "import pandas as pd\n",
        "import matplotlib.pyplot as plt\n",
        "import seaborn as sns\n",
        "import sklearn as sl"
      ]
    },
    {
      "cell_type": "markdown",
      "metadata": {
        "id": "Zk_gURpWyR1b"
      },
      "source": [
        "## Import Data into Dataframe\n",
        "\n",
        "➡️ Assignment Tasks\n",
        "- Import data from the SuperStore retail dataset into a dataframe (in GitHub go to Labs > DataSets)\n",
        "- Describe or profile the dataframe"
      ]
    },
    {
      "cell_type": "code",
      "execution_count": 3,
      "metadata": {
        "vscode": {
          "languageId": "plaintext"
        },
        "id": "lHLnaJEiyR1b",
        "colab": {
          "base_uri": "https://localhost:8080/",
          "height": 318
        },
        "outputId": "04a45140-1d35-4cb1-8841-947af2a54388"
      },
      "outputs": [
        {
          "output_type": "stream",
          "name": "stdout",
          "text": [
            "Mounted at /content/gdrive\n"
          ]
        },
        {
          "output_type": "execute_result",
          "data": {
            "text/plain": [
              "           order_id       quantity  product_price\n",
              "count  56045.000000   56006.000000   56045.000000\n",
              "mean   61668.066340       3.348498    6195.540505\n",
              "std     7508.229651     422.646565   35784.727716\n",
              "min    45079.000000       1.000000       2.290000\n",
              "25%    55644.000000       1.000000       7.950000\n",
              "50%    61869.000000       1.000000     475.600000\n",
              "75%    68097.000000       2.000000     914.620000\n",
              "max    74147.000000  100000.000000  235481.000000"
            ],
            "text/html": [
              "\n",
              "  <div id=\"df-ae06ab11-1fbe-485b-b481-114a8aa630bd\" class=\"colab-df-container\">\n",
              "    <div>\n",
              "<style scoped>\n",
              "    .dataframe tbody tr th:only-of-type {\n",
              "        vertical-align: middle;\n",
              "    }\n",
              "\n",
              "    .dataframe tbody tr th {\n",
              "        vertical-align: top;\n",
              "    }\n",
              "\n",
              "    .dataframe thead th {\n",
              "        text-align: right;\n",
              "    }\n",
              "</style>\n",
              "<table border=\"1\" class=\"dataframe\">\n",
              "  <thead>\n",
              "    <tr style=\"text-align: right;\">\n",
              "      <th></th>\n",
              "      <th>order_id</th>\n",
              "      <th>quantity</th>\n",
              "      <th>product_price</th>\n",
              "    </tr>\n",
              "  </thead>\n",
              "  <tbody>\n",
              "    <tr>\n",
              "      <th>count</th>\n",
              "      <td>56045.000000</td>\n",
              "      <td>56006.000000</td>\n",
              "      <td>56045.000000</td>\n",
              "    </tr>\n",
              "    <tr>\n",
              "      <th>mean</th>\n",
              "      <td>61668.066340</td>\n",
              "      <td>3.348498</td>\n",
              "      <td>6195.540505</td>\n",
              "    </tr>\n",
              "    <tr>\n",
              "      <th>std</th>\n",
              "      <td>7508.229651</td>\n",
              "      <td>422.646565</td>\n",
              "      <td>35784.727716</td>\n",
              "    </tr>\n",
              "    <tr>\n",
              "      <th>min</th>\n",
              "      <td>45079.000000</td>\n",
              "      <td>1.000000</td>\n",
              "      <td>2.290000</td>\n",
              "    </tr>\n",
              "    <tr>\n",
              "      <th>25%</th>\n",
              "      <td>55644.000000</td>\n",
              "      <td>1.000000</td>\n",
              "      <td>7.950000</td>\n",
              "    </tr>\n",
              "    <tr>\n",
              "      <th>50%</th>\n",
              "      <td>61869.000000</td>\n",
              "      <td>1.000000</td>\n",
              "      <td>475.600000</td>\n",
              "    </tr>\n",
              "    <tr>\n",
              "      <th>75%</th>\n",
              "      <td>68097.000000</td>\n",
              "      <td>2.000000</td>\n",
              "      <td>914.620000</td>\n",
              "    </tr>\n",
              "    <tr>\n",
              "      <th>max</th>\n",
              "      <td>74147.000000</td>\n",
              "      <td>100000.000000</td>\n",
              "      <td>235481.000000</td>\n",
              "    </tr>\n",
              "  </tbody>\n",
              "</table>\n",
              "</div>\n",
              "    <div class=\"colab-df-buttons\">\n",
              "\n",
              "  <div class=\"colab-df-container\">\n",
              "    <button class=\"colab-df-convert\" onclick=\"convertToInteractive('df-ae06ab11-1fbe-485b-b481-114a8aa630bd')\"\n",
              "            title=\"Convert this dataframe to an interactive table.\"\n",
              "            style=\"display:none;\">\n",
              "\n",
              "  <svg xmlns=\"http://www.w3.org/2000/svg\" height=\"24px\" viewBox=\"0 -960 960 960\">\n",
              "    <path d=\"M120-120v-720h720v720H120Zm60-500h600v-160H180v160Zm220 220h160v-160H400v160Zm0 220h160v-160H400v160ZM180-400h160v-160H180v160Zm440 0h160v-160H620v160ZM180-180h160v-160H180v160Zm440 0h160v-160H620v160Z\"/>\n",
              "  </svg>\n",
              "    </button>\n",
              "\n",
              "  <style>\n",
              "    .colab-df-container {\n",
              "      display:flex;\n",
              "      gap: 12px;\n",
              "    }\n",
              "\n",
              "    .colab-df-convert {\n",
              "      background-color: #E8F0FE;\n",
              "      border: none;\n",
              "      border-radius: 50%;\n",
              "      cursor: pointer;\n",
              "      display: none;\n",
              "      fill: #1967D2;\n",
              "      height: 32px;\n",
              "      padding: 0 0 0 0;\n",
              "      width: 32px;\n",
              "    }\n",
              "\n",
              "    .colab-df-convert:hover {\n",
              "      background-color: #E2EBFA;\n",
              "      box-shadow: 0px 1px 2px rgba(60, 64, 67, 0.3), 0px 1px 3px 1px rgba(60, 64, 67, 0.15);\n",
              "      fill: #174EA6;\n",
              "    }\n",
              "\n",
              "    .colab-df-buttons div {\n",
              "      margin-bottom: 4px;\n",
              "    }\n",
              "\n",
              "    [theme=dark] .colab-df-convert {\n",
              "      background-color: #3B4455;\n",
              "      fill: #D2E3FC;\n",
              "    }\n",
              "\n",
              "    [theme=dark] .colab-df-convert:hover {\n",
              "      background-color: #434B5C;\n",
              "      box-shadow: 0px 1px 3px 1px rgba(0, 0, 0, 0.15);\n",
              "      filter: drop-shadow(0px 1px 2px rgba(0, 0, 0, 0.3));\n",
              "      fill: #FFFFFF;\n",
              "    }\n",
              "  </style>\n",
              "\n",
              "    <script>\n",
              "      const buttonEl =\n",
              "        document.querySelector('#df-ae06ab11-1fbe-485b-b481-114a8aa630bd button.colab-df-convert');\n",
              "      buttonEl.style.display =\n",
              "        google.colab.kernel.accessAllowed ? 'block' : 'none';\n",
              "\n",
              "      async function convertToInteractive(key) {\n",
              "        const element = document.querySelector('#df-ae06ab11-1fbe-485b-b481-114a8aa630bd');\n",
              "        const dataTable =\n",
              "          await google.colab.kernel.invokeFunction('convertToInteractive',\n",
              "                                                    [key], {});\n",
              "        if (!dataTable) return;\n",
              "\n",
              "        const docLinkHtml = 'Like what you see? Visit the ' +\n",
              "          '<a target=\"_blank\" href=https://colab.research.google.com/notebooks/data_table.ipynb>data table notebook</a>'\n",
              "          + ' to learn more about interactive tables.';\n",
              "        element.innerHTML = '';\n",
              "        dataTable['output_type'] = 'display_data';\n",
              "        await google.colab.output.renderOutput(dataTable, element);\n",
              "        const docLink = document.createElement('div');\n",
              "        docLink.innerHTML = docLinkHtml;\n",
              "        element.appendChild(docLink);\n",
              "      }\n",
              "    </script>\n",
              "  </div>\n",
              "\n",
              "\n",
              "<div id=\"df-d130b74e-2a9b-4383-8e18-9be0f1860b74\">\n",
              "  <button class=\"colab-df-quickchart\" onclick=\"quickchart('df-d130b74e-2a9b-4383-8e18-9be0f1860b74')\"\n",
              "            title=\"Suggest charts\"\n",
              "            style=\"display:none;\">\n",
              "\n",
              "<svg xmlns=\"http://www.w3.org/2000/svg\" height=\"24px\"viewBox=\"0 0 24 24\"\n",
              "     width=\"24px\">\n",
              "    <g>\n",
              "        <path d=\"M19 3H5c-1.1 0-2 .9-2 2v14c0 1.1.9 2 2 2h14c1.1 0 2-.9 2-2V5c0-1.1-.9-2-2-2zM9 17H7v-7h2v7zm4 0h-2V7h2v10zm4 0h-2v-4h2v4z\"/>\n",
              "    </g>\n",
              "</svg>\n",
              "  </button>\n",
              "\n",
              "<style>\n",
              "  .colab-df-quickchart {\n",
              "      --bg-color: #E8F0FE;\n",
              "      --fill-color: #1967D2;\n",
              "      --hover-bg-color: #E2EBFA;\n",
              "      --hover-fill-color: #174EA6;\n",
              "      --disabled-fill-color: #AAA;\n",
              "      --disabled-bg-color: #DDD;\n",
              "  }\n",
              "\n",
              "  [theme=dark] .colab-df-quickchart {\n",
              "      --bg-color: #3B4455;\n",
              "      --fill-color: #D2E3FC;\n",
              "      --hover-bg-color: #434B5C;\n",
              "      --hover-fill-color: #FFFFFF;\n",
              "      --disabled-bg-color: #3B4455;\n",
              "      --disabled-fill-color: #666;\n",
              "  }\n",
              "\n",
              "  .colab-df-quickchart {\n",
              "    background-color: var(--bg-color);\n",
              "    border: none;\n",
              "    border-radius: 50%;\n",
              "    cursor: pointer;\n",
              "    display: none;\n",
              "    fill: var(--fill-color);\n",
              "    height: 32px;\n",
              "    padding: 0;\n",
              "    width: 32px;\n",
              "  }\n",
              "\n",
              "  .colab-df-quickchart:hover {\n",
              "    background-color: var(--hover-bg-color);\n",
              "    box-shadow: 0 1px 2px rgba(60, 64, 67, 0.3), 0 1px 3px 1px rgba(60, 64, 67, 0.15);\n",
              "    fill: var(--button-hover-fill-color);\n",
              "  }\n",
              "\n",
              "  .colab-df-quickchart-complete:disabled,\n",
              "  .colab-df-quickchart-complete:disabled:hover {\n",
              "    background-color: var(--disabled-bg-color);\n",
              "    fill: var(--disabled-fill-color);\n",
              "    box-shadow: none;\n",
              "  }\n",
              "\n",
              "  .colab-df-spinner {\n",
              "    border: 2px solid var(--fill-color);\n",
              "    border-color: transparent;\n",
              "    border-bottom-color: var(--fill-color);\n",
              "    animation:\n",
              "      spin 1s steps(1) infinite;\n",
              "  }\n",
              "\n",
              "  @keyframes spin {\n",
              "    0% {\n",
              "      border-color: transparent;\n",
              "      border-bottom-color: var(--fill-color);\n",
              "      border-left-color: var(--fill-color);\n",
              "    }\n",
              "    20% {\n",
              "      border-color: transparent;\n",
              "      border-left-color: var(--fill-color);\n",
              "      border-top-color: var(--fill-color);\n",
              "    }\n",
              "    30% {\n",
              "      border-color: transparent;\n",
              "      border-left-color: var(--fill-color);\n",
              "      border-top-color: var(--fill-color);\n",
              "      border-right-color: var(--fill-color);\n",
              "    }\n",
              "    40% {\n",
              "      border-color: transparent;\n",
              "      border-right-color: var(--fill-color);\n",
              "      border-top-color: var(--fill-color);\n",
              "    }\n",
              "    60% {\n",
              "      border-color: transparent;\n",
              "      border-right-color: var(--fill-color);\n",
              "    }\n",
              "    80% {\n",
              "      border-color: transparent;\n",
              "      border-right-color: var(--fill-color);\n",
              "      border-bottom-color: var(--fill-color);\n",
              "    }\n",
              "    90% {\n",
              "      border-color: transparent;\n",
              "      border-bottom-color: var(--fill-color);\n",
              "    }\n",
              "  }\n",
              "</style>\n",
              "\n",
              "  <script>\n",
              "    async function quickchart(key) {\n",
              "      const quickchartButtonEl =\n",
              "        document.querySelector('#' + key + ' button');\n",
              "      quickchartButtonEl.disabled = true;  // To prevent multiple clicks.\n",
              "      quickchartButtonEl.classList.add('colab-df-spinner');\n",
              "      try {\n",
              "        const charts = await google.colab.kernel.invokeFunction(\n",
              "            'suggestCharts', [key], {});\n",
              "      } catch (error) {\n",
              "        console.error('Error during call to suggestCharts:', error);\n",
              "      }\n",
              "      quickchartButtonEl.classList.remove('colab-df-spinner');\n",
              "      quickchartButtonEl.classList.add('colab-df-quickchart-complete');\n",
              "    }\n",
              "    (() => {\n",
              "      let quickchartButtonEl =\n",
              "        document.querySelector('#df-d130b74e-2a9b-4383-8e18-9be0f1860b74 button');\n",
              "      quickchartButtonEl.style.display =\n",
              "        google.colab.kernel.accessAllowed ? 'block' : 'none';\n",
              "    })();\n",
              "  </script>\n",
              "</div>\n",
              "\n",
              "    </div>\n",
              "  </div>\n"
            ],
            "application/vnd.google.colaboratory.intrinsic+json": {
              "type": "dataframe",
              "summary": "{\n  \"name\": \"df\",\n  \"rows\": 8,\n  \"fields\": [\n    {\n      \"column\": \"order_id\",\n      \"properties\": {\n        \"dtype\": \"number\",\n        \"std\": 20608.005969435795,\n        \"min\": 7508.229650559143,\n        \"max\": 74147.0,\n        \"samples\": [\n          61668.066339548575,\n          61869.0,\n          56045.0\n        ],\n        \"num_unique_values\": 8,\n        \"semantic_type\": \"\",\n        \"description\": \"\"\n      }\n    },\n    {\n      \"column\": \"quantity\",\n      \"properties\": {\n        \"dtype\": \"number\",\n        \"std\": 37943.160509739755,\n        \"min\": 1.0,\n        \"max\": 100000.0,\n        \"samples\": [\n          56006.0,\n          3.3484983751740884,\n          100000.0\n        ],\n        \"num_unique_values\": 6,\n        \"semantic_type\": \"\",\n        \"description\": \"\"\n      }\n    },\n    {\n      \"column\": \"product_price\",\n      \"properties\": {\n        \"dtype\": \"number\",\n        \"std\": 80969.15026589678,\n        \"min\": 2.29,\n        \"max\": 235481.0,\n        \"samples\": [\n          6195.540504594523,\n          475.6,\n          56045.0\n        ],\n        \"num_unique_values\": 8,\n        \"semantic_type\": \"\",\n        \"description\": \"\"\n      }\n    }\n  ]\n}"
            }
          },
          "metadata": {},
          "execution_count": 3
        }
      ],
      "source": [
        "from google.colab import drive\n",
        "drive.mount('/content/gdrive', force_remount=True)\n",
        "\n",
        "df = pd.read_csv ('/content/gdrive/MyDrive/IS 4487 Colab/superstore_retail_orders.csv')\n",
        "\n",
        "df.describe()"
      ]
    },
    {
      "cell_type": "markdown",
      "metadata": {
        "id": "SQJm-0HeyR1b"
      },
      "source": [
        "## Prepare Data\n",
        "\n",
        "➡️ Assignment Tasks\n",
        "- Convert any numbers, such as Total_Amount into a number (not a string)\n",
        "- Remove rows with empty (NULL) values"
      ]
    },
    {
      "cell_type": "code",
      "execution_count": 4,
      "metadata": {
        "vscode": {
          "languageId": "plaintext"
        },
        "id": "lnB4BsPhyR1c",
        "colab": {
          "base_uri": "https://localhost:8080/",
          "height": 364
        },
        "outputId": "908bb124-4936-462d-d606-583803d0caff"
      },
      "outputs": [
        {
          "output_type": "stream",
          "name": "stdout",
          "text": [
            "<class 'pandas.core.frame.DataFrame'>\n",
            "Int64Index: 55296 entries, 0 to 56044\n",
            "Data columns (total 12 columns):\n",
            " #   Column            Non-Null Count  Dtype  \n",
            "---  ------            --------------  -----  \n",
            " 0   order_id          55296 non-null  int64  \n",
            " 1   order_date        55296 non-null  object \n",
            " 2   order_year_month  55296 non-null  object \n",
            " 3   customer_name     55296 non-null  object \n",
            " 4   city              55296 non-null  object \n",
            " 5   state_province    55296 non-null  object \n",
            " 6   quantity          55296 non-null  float64\n",
            " 7   product_name      55296 non-null  object \n",
            " 8   product_line      55296 non-null  object \n",
            " 9   product_price     55296 non-null  float64\n",
            " 10  total_amount      55296 non-null  float64\n",
            " 11  year_extracted    55296 non-null  object \n",
            "dtypes: float64(3), int64(1), object(8)\n",
            "memory usage: 5.5+ MB\n"
          ]
        },
        {
          "output_type": "display_data",
          "data": {
            "text/plain": [
              "None"
            ]
          },
          "metadata": {}
        }
      ],
      "source": [
        "df['total_amount'] = df['quantity'] * df['product_price']\n",
        "\n",
        "df.dropna(inplace=True)\n",
        "\n",
        "\n",
        "df['year_extracted'] = df['order_year_month'].str[:4]\n",
        "outlier_years = ['2029', '1922', '2421']\n",
        "df = df[~df['year_extracted'].isin(outlier_years)]\n",
        "\n",
        "display(df.info())"
      ]
    },
    {
      "cell_type": "markdown",
      "metadata": {
        "id": "adqQTC2WyR1c"
      },
      "source": [
        "## Create Basic Charts\n",
        "\n",
        "➡️ Assignment Tasks\n",
        "Your target variable is Total Sales (count of sales)\n",
        "- Create a bar chart\n",
        "- Create a histogram\n",
        "- Create a box plot\n",
        "- Create a scatter plot\n",
        "Each visualization should bring some insight into the total sales."
      ]
    },
    {
      "cell_type": "code",
      "source": [
        "total_sales = len(df) - 1\n",
        "\n",
        "total_sales"
      ],
      "metadata": {
        "colab": {
          "base_uri": "https://localhost:8080/"
        },
        "id": "JKQWY_9A-_RD",
        "outputId": "08b61aa1-16b1-4528-861e-caf55d13f335"
      },
      "execution_count": 5,
      "outputs": [
        {
          "output_type": "execute_result",
          "data": {
            "text/plain": [
              "55295"
            ]
          },
          "metadata": {},
          "execution_count": 5
        }
      ]
    },
    {
      "cell_type": "code",
      "source": [
        "df['year_extracted'] = df['order_year_month'].str[:4]\n",
        "sale_years = df['year_extracted'].unique()\n",
        "\n",
        "sale_years"
      ],
      "metadata": {
        "colab": {
          "base_uri": "https://localhost:8080/"
        },
        "id": "eVMeNbpIACxc",
        "outputId": "bac396ec-5b32-4ee4-be8e-29ed0a5bd0e8"
      },
      "execution_count": 6,
      "outputs": [
        {
          "output_type": "stream",
          "name": "stderr",
          "text": [
            "<ipython-input-6-1e3611c4160a>:1: SettingWithCopyWarning: \n",
            "A value is trying to be set on a copy of a slice from a DataFrame.\n",
            "Try using .loc[row_indexer,col_indexer] = value instead\n",
            "\n",
            "See the caveats in the documentation: https://pandas.pydata.org/pandas-docs/stable/user_guide/indexing.html#returning-a-view-versus-a-copy\n",
            "  df['year_extracted'] = df['order_year_month'].str[:4]\n"
          ]
        },
        {
          "output_type": "execute_result",
          "data": {
            "text/plain": [
              "array(['2021', '2022', '2020'], dtype=object)"
            ]
          },
          "metadata": {},
          "execution_count": 6
        }
      ]
    },
    {
      "cell_type": "code",
      "execution_count": 7,
      "metadata": {
        "vscode": {
          "languageId": "plaintext"
        },
        "id": "sCMu3DBwyR1d",
        "colab": {
          "base_uri": "https://localhost:8080/",
          "height": 493
        },
        "outputId": "5ec12a39-0d09-45bb-8edb-89bfb19e4100"
      },
      "outputs": [
        {
          "output_type": "display_data",
          "data": {
            "text/plain": [
              "<Figure size 640x480 with 1 Axes>"
            ],
            "image/png": "[encoded data removed]"
          },
          "metadata": {}
        }
      ],
      "source": [
        "#bar chart\n",
        "sales_by_year_direct = df.groupby('year_extracted').size()\n",
        "\n",
        "sales_by_year_direct.plot(kind='bar', color='skyblue')\n",
        "plt.title('Total Sales by Year')\n",
        "plt.xlabel('Year')\n",
        "plt.ylabel('Total Sales')\n",
        "\n",
        "plt.show()\n"
      ]
    },
    {
      "cell_type": "code",
      "execution_count": 8,
      "metadata": {
        "vscode": {
          "languageId": "plaintext"
        },
        "id": "obg0-EbTyR1f",
        "colab": {
          "base_uri": "https://localhost:8080/",
          "height": 564
        },
        "outputId": "29132d47-335f-4f71-faf8-a271d72ea503"
      },
      "outputs": [
        {
          "output_type": "display_data",
          "data": {
            "text/plain": [
              "<Figure size 1000x600 with 1 Axes>"
            ],
            "image/png": "[encoded data removed]"
          },
          "metadata": {}
        }
      ],
      "source": [
        "#histogram\n",
        "plt.figure(figsize=(10, 6))\n",
        "sns.histplot(df['product_price'], bins=30, kde=True, color='forestgreen')\n",
        "plt.title('Distribution of Product Prices')\n",
        "plt.xlabel('Product Price')\n",
        "plt.ylabel('Frequency')\n",
        "\n",
        "plt.show()"
      ]
    },
    {
      "cell_type": "code",
      "execution_count": 9,
      "metadata": {
        "vscode": {
          "languageId": "plaintext"
        },
        "id": "tZLmK5cLyR1f",
        "colab": {
          "base_uri": "https://localhost:8080/",
          "height": 564
        },
        "outputId": "2a6604d8-4a65-4e4c-ab2b-516f925a8cb7"
      },
      "outputs": [
        {
          "output_type": "display_data",
          "data": {
            "text/plain": [
              "<Figure size 1000x600 with 1 Axes>"
            ],
            "image/png": "[encoded data removed]"
          },
          "metadata": {}
        }
      ],
      "source": [
        "#box plot\n",
        "\n",
        "extreme_outlier_threshold = df['quantity'].quantile(0.99)  # Using the 99th percentile as a threshold\n",
        "\n",
        "df_no_extreme_outliers = df[df['quantity'] < extreme_outlier_threshold]\n",
        "\n",
        "plt.figure(figsize=(10, 6))\n",
        "sns.boxplot(x=df_no_extreme_outliers['quantity'], color='lightgreen')\n",
        "plt.title('Box Plot of Order Quantities (Extreme Outlier Removed)')\n",
        "plt.xlabel('Order Quantity')\n",
        "\n",
        "plt.show()\n"
      ]
    },
    {
      "cell_type": "code",
      "execution_count": 21,
      "metadata": {
        "vscode": {
          "languageId": "plaintext"
        },
        "id": "1v2OkwO6yR1f",
        "colab": {
          "base_uri": "https://localhost:8080/",
          "height": 564
        },
        "outputId": "a3e2d7e8-5603-4f14-e952-d2511ea107ac"
      },
      "outputs": [
        {
          "output_type": "display_data",
          "data": {
            "text/plain": [
              "<Figure size 1000x600 with 1 Axes>"
            ],
            "image/png": "[encoded data removed]"
          },
          "metadata": {}
        }
      ],
      "source": [
        "#scatter plot\n",
        "plt.figure(figsize=(10, 6))\n",
        "sns.scatterplot(x='product_price', y='quantity', data=df, alpha=0.5)\n",
        "plt.title('Scatter Plot of Product Price vs. Quantity Ordered')\n",
        "plt.xlabel('Product Price')\n",
        "plt.ylabel('Quantity Ordered')\n",
        "\n",
        "plt.show()\n"
      ]
    },
    {
      "cell_type": "markdown",
      "metadata": {
        "id": "gf2GPgAyyR1g"
      },
      "source": [
        "## Explore Relationships\n",
        "\n",
        "➡️ Assignment Tasks\n",
        "Your target variable is Total Sales (count of sales)\n",
        "- How does the month of year affect sales?\n",
        "- What are the best states for sales?\n",
        "- What are the best and worst products for sales?"
      ]
    },
    {
      "cell_type": "code",
      "execution_count": 26,
      "metadata": {
        "vscode": {
          "languageId": "plaintext"
        },
        "id": "oK1y5GZdyR1g",
        "colab": {
          "base_uri": "https://localhost:8080/"
        },
        "outputId": "8d1d2251-1f4a-413f-9611-6008f421875b"
      },
      "outputs": [
        {
          "output_type": "stream",
          "name": "stdout",
          "text": [
            "month\n",
            "1     4887\n",
            "2     4769\n",
            "3     5213\n",
            "4     5450\n",
            "5     5870\n",
            "6     5739\n",
            "7     1629\n",
            "8     3960\n",
            "9     3877\n",
            "10    4246\n",
            "11    4222\n",
            "12    5434\n",
            "dtype: int64\n"
          ]
        }
      ],
      "source": [
        "#month of year\n",
        "df['month'] = pd.to_datetime(df['order_date']).dt.month\n",
        "\n",
        "sales_count_by_month = df.groupby('month').size()\n",
        "\n",
        "print(sales_count_by_month)"
      ]
    },
    {
      "cell_type": "code",
      "execution_count": 28,
      "metadata": {
        "vscode": {
          "languageId": "plaintext"
        },
        "id": "4qQAI4MWyR1g",
        "colab": {
          "base_uri": "https://localhost:8080/"
        },
        "outputId": "80ad8133-a5a9-4daf-8174-6329c45b5714"
      },
      "outputs": [
        {
          "output_type": "stream",
          "name": "stdout",
          "text": [
            "state_province\n",
            "ARIZONA                      1346\n",
            "UTAH                         1211\n",
            "MISSISSIPPI                  1193\n",
            "NORTH CAROLINA               1172\n",
            "MARYLAND                     1170\n",
            "MAINE                        1167\n",
            "SOUTH CAROLINA               1166\n",
            "ARKANSAS                     1164\n",
            "MINNESOTA                    1163\n",
            "COLORADO                     1146\n",
            "CONNECTICUT                  1142\n",
            "MASSACHUSETTS                1142\n",
            "WASHINGTON                   1142\n",
            "GEORGIA                      1140\n",
            "MISSOURI                     1135\n",
            "OREGON                       1133\n",
            "RHODE ISLAND                 1133\n",
            "WEST VIRGINIA                1133\n",
            "VERMONT                      1117\n",
            "IDAHO                        1109\n",
            "NEW MEXICO                   1106\n",
            "DELAWARE                     1105\n",
            "KENTUCKY                     1102\n",
            "SOUTH DAKOTA                 1102\n",
            "FLORIDA                      1101\n",
            "PENNSYLVANIA                 1093\n",
            "NEVADA                       1090\n",
            "NEW HAMPSHIRE                1082\n",
            "WISCONSIN                    1082\n",
            "NEBRASKA                     1081\n",
            "CALIFORNIA                   1080\n",
            "ALABAMA                      1080\n",
            "INDIANA                      1078\n",
            "ILLINOIS                     1077\n",
            "HAWAII                       1077\n",
            "MICHIGAN                     1075\n",
            "MONTANA                      1071\n",
            "WYOMING                      1067\n",
            "IOWA                         1063\n",
            "KANSAS                       1048\n",
            "NORTH DAKOTA                 1045\n",
            "OKLAHOMA                     1041\n",
            "VIRGINIA                     1040\n",
            "NEW JERSEY                   1029\n",
            "LOUISIANA                    1027\n",
            "OHIO                         1022\n",
            "TENNESSEE                    1018\n",
            "NEW YORK                     1003\n",
            "TEXAS                         944\n",
            "ALASKA                        918\n",
            "TX                            158\n",
            "NY                            129\n",
            "MEXICO                         20\n",
            "CANADA                         18\n",
            "dtype: int64\n"
          ]
        }
      ],
      "source": [
        "#sales by state\n",
        "sales_count_by_state = df.groupby('state_province').size().sort_values(ascending=False)\n",
        "\n",
        "print(sales_count_by_state)"
      ]
    },
    {
      "cell_type": "code",
      "execution_count": 30,
      "metadata": {
        "vscode": {
          "languageId": "plaintext"
        },
        "id": "TUEaR5LIyR1g",
        "colab": {
          "base_uri": "https://localhost:8080/"
        },
        "outputId": "8c255c3b-34d0-41f6-d5ed-bda02ba90041"
      },
      "outputs": [
        {
          "output_type": "stream",
          "name": "stdout",
          "text": [
            "product_name\n",
            "Water Bottle - 30 oz.                                                                                          3922\n",
            "E-COSMOS 5V 1.2W Portable Flexible USB LED Light                                                               2920\n",
            "GIZGA essentials Universal Silicone Keyboard Protector Skin                                                    2825\n",
            "Inventis 5V 1.2W Portable Flexible USB LED Light Lamp                                                          2143\n",
            "Samsung Galaxy S20 FE 5G (Cloud Navy, 8GB RAM, 128GB Storage) with No Cost EMI & Additional Exchange Offers    2073\n",
            "                                                                                                               ... \n",
            "Projector Black, 42                                                                                              26\n",
            "Projector Black, 38                                                                                              25\n",
            "Projector Silver, 42                                                                                             25\n",
            "Projector Silver, 44                                                                                             24\n",
            "Projector Silver, 48                                                                                             22\n",
            "Length: 131, dtype: int64\n"
          ]
        }
      ],
      "source": [
        "#sales by product\n",
        "sales_count_by_product = df.groupby('product_name').size().sort_values(ascending=False)\n",
        "\n",
        "print(sales_count_by_product)"
      ]
    },
    {
      "cell_type": "markdown",
      "metadata": {
        "id": "UYmuqSD2yR1g"
      },
      "source": [
        "## Pair Plot\n",
        "\n",
        "➡️ Assignment Tasks\n",
        "- Create a pair plot showing any relevant variables, with the color determined by total sales"
      ]
    },
    {
      "cell_type": "code",
      "execution_count": 35,
      "metadata": {
        "vscode": {
          "languageId": "plaintext"
        },
        "id": "Hfpknr7SyR1h",
        "colab": {
          "base_uri": "https://localhost:8080/",
          "height": 552
        },
        "outputId": "3a20ff02-9100-4d4e-d7b2-9b9f02565601"
      },
      "outputs": [
        {
          "output_type": "execute_result",
          "data": {
            "text/plain": [
              "<seaborn.axisgrid.PairGrid at 0x79f73dd030d0>"
            ]
          },
          "metadata": {},
          "execution_count": 35
        },
        {
          "output_type": "display_data",
          "data": {
            "text/plain": [
              "<Figure size 611.5x500 with 6 Axes>"
            ],
            "image/png": "[encoded data removed]"
          },
          "metadata": {}
        }
      ],
      "source": [
        "#pair plot\n",
        "df['total_sales'] = df['quantity'] * df['product_price']\n",
        "\n",
        "columns_of_interest = ['quantity', 'product_price', 'total_sales']\n",
        "pair_plot = sns.pairplot(df[columns_of_interest], hue='total_sales', palette=\"coolwarm\")\n",
        "pair_plot.fig.suptitle(\"Pair Plot of Relevant Variables, Colored by Total Sales\", y=1.02)\n",
        "\n",
        "pair_plot"
      ]
    }
  ],
  "metadata": {
    "language_info": {
      "name": "python"
    },
    "colab": {
      "provenance": [],
      "include_colab_link": true
    },
    "kernelspec": {
      "name": "python3",
      "display_name": "Python 3"
    }
  },
  "nbformat": 4,
  "nbformat_minor": 0
}